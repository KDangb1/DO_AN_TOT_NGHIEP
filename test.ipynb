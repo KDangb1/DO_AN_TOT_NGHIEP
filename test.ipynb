{
 "cells": [
  {
   "cell_type": "code",
   "execution_count": null,
   "metadata": {},
   "outputs": [],
   "source": [
    "from selenium import webdriver\n",
    "from selenium.webdriver.firefox.options import Options\n",
    "from selenium.webdriver.common.by import By\n",
    "import time\n",
    "import random\n",
    "import get_env\n",
    "import os\n",
    "from selenium.webdriver.common.keys import Keys\n",
    "from bs4 import BeautifulSoup\n",
    "import pandas as pd\n",
    "import csv\n",
    "\n",
    "env_dict = get_env.get_env()\n",
    "\n",
    "\n",
    "CellphoneS_url = env_dict.get('CellphoneS_url')         # Google maps URL + '/search/'\n",
    "bin_location = env_dict.get('bin_location')             # Path to 'Firefox' broswer\n",
    "web_driver = env_dict.get('web_driver')                  # Path to 'geckodriver'\n",
    "data_CellphoneS_dir = env_dict.get('data_CellphoneS_dir')\n",
    "\n",
    "options = Options()\n",
    "options.binary_location = bin_location\n",
    "# options.headless = True                       \n",
    "driver = webdriver.Firefox(executable_path=web_driver, service_log_path=os.devnull ,options=options)\n",
    "    \n",
    "    "
   ]
  },
  {
   "cell_type": "code",
   "execution_count": null,
   "metadata": {},
   "outputs": [],
   "source": [
    "driver.get(f'{CellphoneS_url}mobile.html')\n",
    "\n",
    "time.sleep(random.randrange(5,7))"
   ]
  },
  {
   "cell_type": "code",
   "execution_count": null,
   "metadata": {},
   "outputs": [],
   "source": [
    "#\n",
    "def close_popup_banner():\n",
    "    try:\n",
    "        cancel_popup_banner_element = driver.find_element(By.CLASS_NAME, \"cancel-button-top\")\n",
    "        if cancel_popup_banner_element:\n",
    "            cancel_popup_banner_element.click()\n",
    "            return 1\n",
    "    except:\n",
    "        return 0\n",
    "        "
   ]
  },
  {
   "cell_type": "code",
   "execution_count": null,
   "metadata": {},
   "outputs": [],
   "source": [
    "not_show_all_items_yet = True\n",
    "popup_banner_closed = False\n",
    "\n",
    "while not_show_all_items_yet:\n",
    "    try:\n",
    "        try:\n",
    "            #set to stop this function\n",
    "            not_show_all_items_yet = False\n",
    "            #\n",
    "            btn_show_more_element = driver.find_element(By.CLASS_NAME, \"cps-block-content_btn-showmore\").find_element(By.CSS_SELECTOR, \"a.button\")\n",
    "\n",
    "            if btn_show_more_element.text:\n",
    "                btn_show_more_element.click()\n",
    "                time.sleep(random.randrange(3,5))\n",
    "                #set to continue this function\n",
    "                not_show_all_items_yet = True\n",
    "\n",
    "        except:\n",
    "            #\n",
    "            if popup_banner_closed == False:\n",
    "                popup_banner_closed= close_popup_banner()\n",
    "                not_show_all_items_yet = True\n",
    "            #\n",
    "            else:\n",
    "                not_show_all_items_yet = False\n",
    "                break        \n",
    "        \n",
    "    except:\n",
    "        break\n"
   ]
  },
  {
   "cell_type": "code",
   "execution_count": null,
   "metadata": {},
   "outputs": [],
   "source": [
    "\n",
    "all_products_info_ele = driver.find_elements(By.CLASS_NAME, \"product-info\")\n",
    "list_products = []\n",
    "for product_element in all_products_info_ele:\n",
    "    try:\n",
    "        product_src_image = product_element.find_element(By.CLASS_NAME, \"product__img\").get_attribute(\"src\")\n",
    "        product_name = product_element.find_element(By.CLASS_NAME, 'product__name').text\n",
    "        product_price_new = product_element.find_element(By.CLASS_NAME, 'product__price--show').text  \n",
    "        product_price_old = product_element.find_element(By.CLASS_NAME, 'product__price--through').text   \n",
    "        \n",
    "        product_info = [product_name, product_src_image, product_price_new, product_price_old]\n",
    "        list_products.append(product_info)\n",
    "        \n",
    "    except:\n",
    "        pass\n",
    "    \n",
    "df_products = pd.DataFrame(list_products, columns = [product_name, product_src_image, product_price_new, product_price_old])\n"
   ]
  },
  {
   "cell_type": "code",
   "execution_count": null,
   "metadata": {},
   "outputs": [],
   "source": [
    "print(f\"{data_CellphoneS_dir}/CellphoneS_mobile.csv\")"
   ]
  },
  {
   "cell_type": "code",
   "execution_count": null,
   "metadata": {},
   "outputs": [],
   "source": [
    "df_products.to_csv(f\"{data_CellphoneS_dir}/CellphoneS_mobile.csv\", index=False, columns=[product_name, product_src_image, product_price_new, product_price_old], mode=\"w\")"
   ]
  },
  {
   "cell_type": "code",
   "execution_count": null,
   "metadata": {},
   "outputs": [],
   "source": [
    "\"//*[@class='content']\""
   ]
  },
  {
   "cell_type": "code",
   "execution_count": null,
   "metadata": {},
   "outputs": [],
   "source": [
    "btn_show_more_element = driver.find_element(By.CLASS_NAME, \"cps-block-content_btn-showmore\")\n",
    "t2 = btn_show_more_element.find_element(By.CSS_SELECTOR, \"a.button\")\n",
    "print(btn_show_more_element)\n",
    "print(t2)"
   ]
  }
 ],
 "metadata": {
  "kernelspec": {
   "display_name": "Python 3",
   "language": "python",
   "name": "python3"
  },
  "language_info": {
   "codemirror_mode": {
    "name": "ipython",
    "version": 3
   },
   "file_extension": ".py",
   "mimetype": "text/x-python",
   "name": "python",
   "nbconvert_exporter": "python",
   "pygments_lexer": "ipython3",
   "version": "3.9.13"
  },
  "orig_nbformat": 4,
  "vscode": {
   "interpreter": {
    "hash": "07e4114b18612ff37cb415d7cb3f471fcd141776495a4710d6dbaa719bf7613e"
   }
  }
 },
 "nbformat": 4,
 "nbformat_minor": 2
}
